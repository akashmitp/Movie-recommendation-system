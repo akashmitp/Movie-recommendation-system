{
 "cells": [
  {
   "cell_type": "code",
   "execution_count": 1,
   "id": "9c29dd46",
   "metadata": {},
   "outputs": [],
   "source": [
    "##Import Libraries\n",
    "import pandas as pd"
   ]
  },
  {
   "cell_type": "code",
   "execution_count": 2,
   "id": "f2ea2cb1",
   "metadata": {},
   "outputs": [],
   "source": [
    "dataset=pd.read_csv(\"data.csv\")"
   ]
  },
  {
   "cell_type": "code",
   "execution_count": 3,
   "id": "422e2add",
   "metadata": {},
   "outputs": [
    {
     "data": {
      "text/html": [
       "<div>\n",
       "<style scoped>\n",
       "    .dataframe tbody tr th:only-of-type {\n",
       "        vertical-align: middle;\n",
       "    }\n",
       "\n",
       "    .dataframe tbody tr th {\n",
       "        vertical-align: top;\n",
       "    }\n",
       "\n",
       "    .dataframe thead th {\n",
       "        text-align: right;\n",
       "    }\n",
       "</style>\n",
       "<table border=\"1\" class=\"dataframe\">\n",
       "  <thead>\n",
       "    <tr style=\"text-align: right;\">\n",
       "      <th></th>\n",
       "      <th>Name</th>\n",
       "      <th>Year</th>\n",
       "      <th>Stars</th>\n",
       "      <th>Score</th>\n",
       "      <th>Time</th>\n",
       "      <th>Votes</th>\n",
       "      <th>Total</th>\n",
       "      <th>Tags</th>\n",
       "      <th>Directors_Cast</th>\n",
       "      <th>Discription</th>\n",
       "    </tr>\n",
       "  </thead>\n",
       "  <tbody>\n",
       "    <tr>\n",
       "      <th>0</th>\n",
       "      <td>Pulp Fiction</td>\n",
       "      <td>1994</td>\n",
       "      <td>8.9</td>\n",
       "      <td>94.0</td>\n",
       "      <td>154</td>\n",
       "      <td>1,871,051</td>\n",
       "      <td>$107.93</td>\n",
       "      <td>\\nCrime Drama</td>\n",
       "      <td>Quentin Tarantino John Travolta Uma Thurman Sa...</td>\n",
       "      <td>\\nThe lives of two mob hitmen a boxer a gangst...</td>\n",
       "    </tr>\n",
       "    <tr>\n",
       "      <th>1</th>\n",
       "      <td>The Amazing Spider-Man 2</td>\n",
       "      <td>2014</td>\n",
       "      <td>6.6</td>\n",
       "      <td>53.0</td>\n",
       "      <td>142</td>\n",
       "      <td>425,529</td>\n",
       "      <td>$202.85</td>\n",
       "      <td>\\nAction Adventure Fantasy</td>\n",
       "      <td>Marc Webb Andrew Garfield Emma Stone Jamie Fox...</td>\n",
       "      <td>\\nWhen New York is put under siege by Oscorp i...</td>\n",
       "    </tr>\n",
       "    <tr>\n",
       "      <th>2</th>\n",
       "      <td>The Shawshank Redemption</td>\n",
       "      <td>1994</td>\n",
       "      <td>9.3</td>\n",
       "      <td>80.0</td>\n",
       "      <td>142</td>\n",
       "      <td>2,409,436</td>\n",
       "      <td>$28.34</td>\n",
       "      <td>\\nDrama</td>\n",
       "      <td>Frank Darabont Tim Robbins Morgan Freeman Bob ...</td>\n",
       "      <td>\\nTwo imprisoned men bond over a number of yea...</td>\n",
       "    </tr>\n",
       "    <tr>\n",
       "      <th>3</th>\n",
       "      <td>Star Wars: Episode IV - A New Hope</td>\n",
       "      <td>1977</td>\n",
       "      <td>8.6</td>\n",
       "      <td>90.0</td>\n",
       "      <td>121</td>\n",
       "      <td>1,255,464</td>\n",
       "      <td>$322.74</td>\n",
       "      <td>\\nAction Adventure Fantasy</td>\n",
       "      <td>George Lucas Mark Hamill Harrison Ford Carrie ...</td>\n",
       "      <td>\\nLuke Skywalker joins forces with a Jedi Knig...</td>\n",
       "    </tr>\n",
       "    <tr>\n",
       "      <th>4</th>\n",
       "      <td>Back to the Future</td>\n",
       "      <td>1985</td>\n",
       "      <td>8.5</td>\n",
       "      <td>87.0</td>\n",
       "      <td>116</td>\n",
       "      <td>1,087,878</td>\n",
       "      <td>$210.61</td>\n",
       "      <td>\\nAdventure Comedy Sci-Fi</td>\n",
       "      <td>Robert Zemeckis Michael J. Fox Christopher Llo...</td>\n",
       "      <td>\\nMarty McFly a 17-year-old high school studen...</td>\n",
       "    </tr>\n",
       "  </tbody>\n",
       "</table>\n",
       "</div>"
      ],
      "text/plain": [
       "                                 Name  Year  Stars  Score  Time      Votes  \\\n",
       "0                        Pulp Fiction  1994    8.9   94.0  154   1,871,051   \n",
       "1            The Amazing Spider-Man 2  2014    6.6   53.0  142     425,529   \n",
       "2            The Shawshank Redemption  1994    9.3   80.0  142   2,409,436   \n",
       "3  Star Wars: Episode IV - A New Hope  1977    8.6   90.0  121   1,255,464   \n",
       "4                  Back to the Future  1985    8.5   87.0  116   1,087,878   \n",
       "\n",
       "     Total                                    Tags  \\\n",
       "0  $107.93               \\nCrime Drama               \n",
       "1  $202.85  \\nAction Adventure Fantasy               \n",
       "2   $28.34                     \\nDrama               \n",
       "3  $322.74  \\nAction Adventure Fantasy               \n",
       "4  $210.61   \\nAdventure Comedy Sci-Fi               \n",
       "\n",
       "                                      Directors_Cast  \\\n",
       "0  Quentin Tarantino John Travolta Uma Thurman Sa...   \n",
       "1  Marc Webb Andrew Garfield Emma Stone Jamie Fox...   \n",
       "2  Frank Darabont Tim Robbins Morgan Freeman Bob ...   \n",
       "3  George Lucas Mark Hamill Harrison Ford Carrie ...   \n",
       "4  Robert Zemeckis Michael J. Fox Christopher Llo...   \n",
       "\n",
       "                                         Discription  \n",
       "0  \\nThe lives of two mob hitmen a boxer a gangst...  \n",
       "1  \\nWhen New York is put under siege by Oscorp i...  \n",
       "2  \\nTwo imprisoned men bond over a number of yea...  \n",
       "3  \\nLuke Skywalker joins forces with a Jedi Knig...  \n",
       "4  \\nMarty McFly a 17-year-old high school studen...  "
      ]
     },
     "execution_count": 3,
     "metadata": {},
     "output_type": "execute_result"
    }
   ],
   "source": [
    "dataset.head()"
   ]
  },
  {
   "cell_type": "code",
   "execution_count": 4,
   "id": "93072be1",
   "metadata": {},
   "outputs": [
    {
     "data": {
      "text/plain": [
       "(9937, 10)"
      ]
     },
     "execution_count": 4,
     "metadata": {},
     "output_type": "execute_result"
    }
   ],
   "source": [
    "dataset.shape"
   ]
  },
  {
   "cell_type": "code",
   "execution_count": 5,
   "id": "58207082",
   "metadata": {},
   "outputs": [
    {
     "name": "stdout",
     "output_type": "stream",
     "text": [
      "<class 'pandas.core.frame.DataFrame'>\n",
      "RangeIndex: 9937 entries, 0 to 9936\n",
      "Data columns (total 10 columns):\n",
      " #   Column          Non-Null Count  Dtype  \n",
      "---  ------          --------------  -----  \n",
      " 0   Name            9937 non-null   object \n",
      " 1   Year            9754 non-null   object \n",
      " 2   Stars           9725 non-null   float64\n",
      " 3   Score           6145 non-null   float64\n",
      " 4   Time            9722 non-null   object \n",
      " 5   Votes           9736 non-null   object \n",
      " 6   Total           6892 non-null   object \n",
      " 7   Tags            9929 non-null   object \n",
      " 8   Directors_Cast  9853 non-null   object \n",
      " 9   Discription     6145 non-null   object \n",
      "dtypes: float64(2), object(8)\n",
      "memory usage: 776.5+ KB\n"
     ]
    }
   ],
   "source": [
    "dataset.info()"
   ]
  },
  {
   "cell_type": "markdown",
   "id": "e5c965ac",
   "metadata": {},
   "source": [
    "Only stars and score are in float rest are objects"
   ]
  },
  {
   "cell_type": "code",
   "execution_count": 6,
   "id": "024c0643",
   "metadata": {},
   "outputs": [],
   "source": [
    "def important_features(dataset):\n",
    "    data=dataset.copy()\n",
    "    for i in range(0, dataset.shape[0]):\n",
    "        data[\"imp\"]=data[\"Name\"]+' '+data[\"Directors_Cast\"]+\" \"+data[\"Tags\"]\n",
    "    return data\n"
   ]
  },
  {
   "cell_type": "code",
   "execution_count": 7,
   "id": "87b48772",
   "metadata": {},
   "outputs": [],
   "source": [
    "data=important_features(dataset)"
   ]
  },
  {
   "cell_type": "code",
   "execution_count": 8,
   "id": "f7d434fa",
   "metadata": {},
   "outputs": [
    {
     "data": {
      "text/html": [
       "<div>\n",
       "<style scoped>\n",
       "    .dataframe tbody tr th:only-of-type {\n",
       "        vertical-align: middle;\n",
       "    }\n",
       "\n",
       "    .dataframe tbody tr th {\n",
       "        vertical-align: top;\n",
       "    }\n",
       "\n",
       "    .dataframe thead th {\n",
       "        text-align: right;\n",
       "    }\n",
       "</style>\n",
       "<table border=\"1\" class=\"dataframe\">\n",
       "  <thead>\n",
       "    <tr style=\"text-align: right;\">\n",
       "      <th></th>\n",
       "      <th>Name</th>\n",
       "      <th>Year</th>\n",
       "      <th>Stars</th>\n",
       "      <th>Score</th>\n",
       "      <th>Time</th>\n",
       "      <th>Votes</th>\n",
       "      <th>Total</th>\n",
       "      <th>Tags</th>\n",
       "      <th>Directors_Cast</th>\n",
       "      <th>Discription</th>\n",
       "      <th>imp</th>\n",
       "    </tr>\n",
       "  </thead>\n",
       "  <tbody>\n",
       "    <tr>\n",
       "      <th>0</th>\n",
       "      <td>Pulp Fiction</td>\n",
       "      <td>1994</td>\n",
       "      <td>8.9</td>\n",
       "      <td>94.0</td>\n",
       "      <td>154</td>\n",
       "      <td>1,871,051</td>\n",
       "      <td>$107.93</td>\n",
       "      <td>\\nCrime Drama</td>\n",
       "      <td>Quentin Tarantino John Travolta Uma Thurman Sa...</td>\n",
       "      <td>\\nThe lives of two mob hitmen a boxer a gangst...</td>\n",
       "      <td>Pulp Fiction Quentin Tarantino John Travolta U...</td>\n",
       "    </tr>\n",
       "    <tr>\n",
       "      <th>1</th>\n",
       "      <td>The Amazing Spider-Man 2</td>\n",
       "      <td>2014</td>\n",
       "      <td>6.6</td>\n",
       "      <td>53.0</td>\n",
       "      <td>142</td>\n",
       "      <td>425,529</td>\n",
       "      <td>$202.85</td>\n",
       "      <td>\\nAction Adventure Fantasy</td>\n",
       "      <td>Marc Webb Andrew Garfield Emma Stone Jamie Fox...</td>\n",
       "      <td>\\nWhen New York is put under siege by Oscorp i...</td>\n",
       "      <td>The Amazing Spider-Man 2 Marc Webb Andrew Garf...</td>\n",
       "    </tr>\n",
       "    <tr>\n",
       "      <th>2</th>\n",
       "      <td>The Shawshank Redemption</td>\n",
       "      <td>1994</td>\n",
       "      <td>9.3</td>\n",
       "      <td>80.0</td>\n",
       "      <td>142</td>\n",
       "      <td>2,409,436</td>\n",
       "      <td>$28.34</td>\n",
       "      <td>\\nDrama</td>\n",
       "      <td>Frank Darabont Tim Robbins Morgan Freeman Bob ...</td>\n",
       "      <td>\\nTwo imprisoned men bond over a number of yea...</td>\n",
       "      <td>The Shawshank Redemption Frank Darabont Tim Ro...</td>\n",
       "    </tr>\n",
       "    <tr>\n",
       "      <th>3</th>\n",
       "      <td>Star Wars: Episode IV - A New Hope</td>\n",
       "      <td>1977</td>\n",
       "      <td>8.6</td>\n",
       "      <td>90.0</td>\n",
       "      <td>121</td>\n",
       "      <td>1,255,464</td>\n",
       "      <td>$322.74</td>\n",
       "      <td>\\nAction Adventure Fantasy</td>\n",
       "      <td>George Lucas Mark Hamill Harrison Ford Carrie ...</td>\n",
       "      <td>\\nLuke Skywalker joins forces with a Jedi Knig...</td>\n",
       "      <td>Star Wars: Episode IV - A New Hope George Luca...</td>\n",
       "    </tr>\n",
       "    <tr>\n",
       "      <th>4</th>\n",
       "      <td>Back to the Future</td>\n",
       "      <td>1985</td>\n",
       "      <td>8.5</td>\n",
       "      <td>87.0</td>\n",
       "      <td>116</td>\n",
       "      <td>1,087,878</td>\n",
       "      <td>$210.61</td>\n",
       "      <td>\\nAdventure Comedy Sci-Fi</td>\n",
       "      <td>Robert Zemeckis Michael J. Fox Christopher Llo...</td>\n",
       "      <td>\\nMarty McFly a 17-year-old high school studen...</td>\n",
       "      <td>Back to the Future Robert Zemeckis Michael J. ...</td>\n",
       "    </tr>\n",
       "  </tbody>\n",
       "</table>\n",
       "</div>"
      ],
      "text/plain": [
       "                                 Name  Year  Stars  Score  Time      Votes  \\\n",
       "0                        Pulp Fiction  1994    8.9   94.0  154   1,871,051   \n",
       "1            The Amazing Spider-Man 2  2014    6.6   53.0  142     425,529   \n",
       "2            The Shawshank Redemption  1994    9.3   80.0  142   2,409,436   \n",
       "3  Star Wars: Episode IV - A New Hope  1977    8.6   90.0  121   1,255,464   \n",
       "4                  Back to the Future  1985    8.5   87.0  116   1,087,878   \n",
       "\n",
       "     Total                                    Tags  \\\n",
       "0  $107.93               \\nCrime Drama               \n",
       "1  $202.85  \\nAction Adventure Fantasy               \n",
       "2   $28.34                     \\nDrama               \n",
       "3  $322.74  \\nAction Adventure Fantasy               \n",
       "4  $210.61   \\nAdventure Comedy Sci-Fi               \n",
       "\n",
       "                                      Directors_Cast  \\\n",
       "0  Quentin Tarantino John Travolta Uma Thurman Sa...   \n",
       "1  Marc Webb Andrew Garfield Emma Stone Jamie Fox...   \n",
       "2  Frank Darabont Tim Robbins Morgan Freeman Bob ...   \n",
       "3  George Lucas Mark Hamill Harrison Ford Carrie ...   \n",
       "4  Robert Zemeckis Michael J. Fox Christopher Llo...   \n",
       "\n",
       "                                         Discription  \\\n",
       "0  \\nThe lives of two mob hitmen a boxer a gangst...   \n",
       "1  \\nWhen New York is put under siege by Oscorp i...   \n",
       "2  \\nTwo imprisoned men bond over a number of yea...   \n",
       "3  \\nLuke Skywalker joins forces with a Jedi Knig...   \n",
       "4  \\nMarty McFly a 17-year-old high school studen...   \n",
       "\n",
       "                                                 imp  \n",
       "0  Pulp Fiction Quentin Tarantino John Travolta U...  \n",
       "1  The Amazing Spider-Man 2 Marc Webb Andrew Garf...  \n",
       "2  The Shawshank Redemption Frank Darabont Tim Ro...  \n",
       "3  Star Wars: Episode IV - A New Hope George Luca...  \n",
       "4  Back to the Future Robert Zemeckis Michael J. ...  "
      ]
     },
     "execution_count": 8,
     "metadata": {},
     "output_type": "execute_result"
    }
   ],
   "source": [
    "data.head()"
   ]
  },
  {
   "cell_type": "code",
   "execution_count": 9,
   "id": "25dca716",
   "metadata": {},
   "outputs": [],
   "source": [
    "data[\"ids\"]=[i for i in range(0,data.shape[0])]"
   ]
  },
  {
   "cell_type": "code",
   "execution_count": null,
   "id": "b5e4c834",
   "metadata": {},
   "outputs": [],
   "source": [
    "##Importing vectoriser"
   ]
  },
  {
   "cell_type": "code",
   "execution_count": 10,
   "id": "76bfc1ca",
   "metadata": {},
   "outputs": [],
   "source": [
    "from sklearn.feature_extraction.text import TfidfVectorizer\n",
    "import numpy as np\n",
    "vec=TfidfVectorizer()"
   ]
  },
  {
   "cell_type": "code",
   "execution_count": 11,
   "id": "963e52fd",
   "metadata": {},
   "outputs": [],
   "source": [
    "vecs=vec.fit_transform(data[\"imp\"].apply(lambda x: np.str_(x)))"
   ]
  },
  {
   "cell_type": "code",
   "execution_count": 12,
   "id": "ba3206a6",
   "metadata": {},
   "outputs": [
    {
     "data": {
      "text/plain": [
       "(9937, 20994)"
      ]
     },
     "execution_count": 12,
     "metadata": {},
     "output_type": "execute_result"
    }
   ],
   "source": [
    "vecs.shape"
   ]
  },
  {
   "cell_type": "code",
   "execution_count": 13,
   "id": "694de2ba",
   "metadata": {},
   "outputs": [],
   "source": [
    "from sklearn.metrics.pairwise import cosine_similarity"
   ]
  },
  {
   "cell_type": "code",
   "execution_count": 14,
   "id": "6b7bfd07",
   "metadata": {},
   "outputs": [],
   "source": [
    "sim=cosine_similarity(vecs) "
   ]
  },
  {
   "cell_type": "code",
   "execution_count": 15,
   "id": "6f83c43b",
   "metadata": {},
   "outputs": [
    {
     "data": {
      "text/plain": [
       "(9937, 9937)"
      ]
     },
     "execution_count": 15,
     "metadata": {},
     "output_type": "execute_result"
    }
   ],
   "source": [
    "sim.shape##Columns represnt movie-ids and not rows"
   ]
  },
  {
   "cell_type": "code",
   "execution_count": 20,
   "id": "384eb756",
   "metadata": {},
   "outputs": [
    {
     "data": {
      "text/plain": [
       "1.0"
      ]
     },
     "execution_count": 20,
     "metadata": {},
     "output_type": "execute_result"
    }
   ],
   "source": [
    "sim[100][100]"
   ]
  },
  {
   "cell_type": "code",
   "execution_count": 21,
   "id": "4850392d",
   "metadata": {},
   "outputs": [],
   "source": [
    "def recommend(title):\n",
    "    movie_id=data[data.Name==title][\"ids\"].values[0]\n",
    "    scores=list(enumerate(sim[movie_id]))\n",
    "    sorted_scores=sorted(scores,key=lambda x:x[1],reverse=True)\n",
    "    sorted_scores=sorted_scores[1:]\n",
    "    movies=[data[movies[0]==data[\"ids\"]][\"Name\"].values[0] for movies in sorted_scores]\n",
    "    return movies"
   ]
  },
  {
   "cell_type": "code",
   "execution_count": 22,
   "id": "4a3ac27c",
   "metadata": {},
   "outputs": [],
   "source": [
    "def recommend_ten(movie_list):\n",
    "    first_ten=[]\n",
    "    count=0\n",
    "    for movie in movie_list:\n",
    "        if count > 9:\n",
    "            break\n",
    "        count+=1\n",
    "        first_ten.append(movie)\n",
    "    return first_ten"
   ]
  },
  {
   "cell_type": "code",
   "execution_count": 25,
   "id": "120117e7",
   "metadata": {},
   "outputs": [],
   "source": [
    "lst=recommend(\"The Matrix\")\n",
    "m=recommend_ten(lst)"
   ]
  },
  {
   "cell_type": "code",
   "execution_count": 26,
   "id": "898f23dd",
   "metadata": {},
   "outputs": [
    {
     "data": {
      "text/plain": [
       "['The Matrix Reloaded',\n",
       " 'The Matrix Revolutions',\n",
       " 'Cloud Atlas',\n",
       " 'Bound',\n",
       " 'Jupiter Ascending',\n",
       " 'Speed Racer',\n",
       " 'Red Planet',\n",
       " 'V for Vendetta',\n",
       " 'Captain America: The First Avenger',\n",
       " 'Thurgood']"
      ]
     },
     "execution_count": 26,
     "metadata": {},
     "output_type": "execute_result"
    }
   ],
   "source": [
    "m"
   ]
  },
  {
   "cell_type": "code",
   "execution_count": null,
   "id": "42be2170",
   "metadata": {},
   "outputs": [],
   "source": []
  },
  {
   "cell_type": "code",
   "execution_count": null,
   "id": "003cd681",
   "metadata": {},
   "outputs": [],
   "source": []
  }
 ],
 "metadata": {
  "kernelspec": {
   "display_name": "Python 3",
   "language": "python",
   "name": "python3"
  },
  "language_info": {
   "codemirror_mode": {
    "name": "ipython",
    "version": 3
   },
   "file_extension": ".py",
   "mimetype": "text/x-python",
   "name": "python",
   "nbconvert_exporter": "python",
   "pygments_lexer": "ipython3",
   "version": "3.8.8"
  }
 },
 "nbformat": 4,
 "nbformat_minor": 5
}


